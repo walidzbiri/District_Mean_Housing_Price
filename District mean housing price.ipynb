{
 "cells": [
  {
   "cell_type": "markdown",
   "id": "passing-float",
   "metadata": {},
   "source": [
    "## District median housing price"
   ]
  },
  {
   "cell_type": "markdown",
   "id": "wooden-projection",
   "metadata": {},
   "source": [
    "# 1- Framing the problem"
   ]
  },
  {
   "cell_type": "markdown",
   "id": "respected-newspaper",
   "metadata": {},
   "source": [
    "The first question you should ask your boss is what is the end goal of the model, in other words what's the business objective of the model.\n",
    "\n",
    "Answer: the model output will be fed to another **Machine Learning System** along with other signals. Which will determine whether it's worth investing in a given district or not.\n",
    "So the model's output (Median Housing Price in a District) is critical, as it directly affects the whole system"
   ]
  },
  {
   "cell_type": "markdown",
   "id": "united-shooting",
   "metadata": {},
   "source": [
    "The next question is to ask your boss how the current solution looks like and it's performance.\n",
    "\n",
    "This will give you an idea about what to expect for your model performance."
   ]
  },
  {
   "cell_type": "markdown",
   "id": "welsh-contemporary",
   "metadata": {},
   "source": [
    "**supervised, unsupervised or reinforcement Learning ?**\n",
    "\n",
    "Since we have labeled training examples(meaning that each example comes with expected output - Median Price), it's clearly a supervised learning problem"
   ]
  },
  {
   "cell_type": "markdown",
   "id": "exceptional-annual",
   "metadata": {},
   "source": [
    "**Classification or Regression Problem ?**\n",
    "\n",
    "The target variable is continuous => *Regression problem*, more specifically it's a **multiple regression problem** since we are using multiple features to predict the output."
   ]
  },
  {
   "cell_type": "markdown",
   "id": "technological-framework",
   "metadata": {},
   "source": [
    "**Offline(Batch) or Online learning ?**\n",
    "\n",
    "In **batch learning** the model is not capable for learning incrementally. It must be trained on all the available data. Once the model is trained and tested, it is launched into production and runs without learning anymore. If a new training data is available and you want to update your model, you must start from scratch and train it on old and new data, retest it, remove the old model from production and finally launch the new one.\n",
    "This process can be automated but it's highly time and ressource consumming(disk,CPU,network ...). So if your data is rapidly changing you should use algorithms that are capable of learning incrementally.\n",
    "\n",
    "In **Online learning** the model is trained and launched into production, and then it keeps learning incrementally as new data comes in. Online learning is recommended in systems that receive data as continuous flow (stock prices) and need to adapt the model on it. It's also a good option for limited ressource computers, once you trained your data on small batch of data, it doesn't need this data anymore so you can drop it to free ressources. Unless you want to roll back to a previous state of the model. \n",
    "\n",
    "=> **In our problem we don't have a continuous flow of data coming into our system, we don't have any rapidly changing data and the data is small enough to fit in the computer memory so let's use *Batch Learning.***"
   ]
  },
  {
   "cell_type": "markdown",
   "id": "descending-square",
   "metadata": {},
   "source": [
    "## Permormance Metrics Selection"
   ]
  },
  {
   "cell_type": "markdown",
   "id": "christian-massachusetts",
   "metadata": {},
   "source": [
    "For regression problems, the root mean squarred error(RMSE) is good metric. It gives an idea on how much error the model typically makes in its predications.\n",
    "$$RMSE(X,h)= \\sqrt{\\frac{1}{m} \\sum_{i=1}^{m} (h(X^{(i)})-y^{(i)})^2}$$\t\n",
    "We can also use mean squarred error or mean absolute error. But the generally preferred one is **RMSE**."
   ]
  },
  {
   "cell_type": "markdown",
   "id": "subsequent-chance",
   "metadata": {},
   "source": [
    "## Download data"
   ]
  },
  {
   "cell_type": "markdown",
   "id": "headed-purpose",
   "metadata": {},
   "source": [
    "You could use your web browser to download the data, but it's recommended to write a function that gets data from\n",
    "internet. Because in some cases the data might change so a simple function call could get you the new one."
   ]
  },
  {
   "cell_type": "code",
   "execution_count": 1,
   "id": "fantastic-devices",
   "metadata": {},
   "outputs": [],
   "source": [
    "import os\n",
    "import tarfile\n",
    "import urllib\n",
    "\n",
    "DOWNLOAD_LINK=\"https://raw.githubusercontent.com/ageron/handson-ml2/master/datasets/housing/housing.csv\"\n",
    "def fetch_data(download_link=DOWNLOAD_LINK):\n",
    "    os.makedirs(os.path.join('datasets','housing'),exist_ok=True) # creating ./datasets/housing if not exists\n",
    "    urllib.request.urlretrieve(download_link,os.path.join('datasets','housing','housing.csv'))\n",
    "    # download csv file and save it as housing.csv in ./datasets/housing"
   ]
  },
  {
   "cell_type": "code",
   "execution_count": 2,
   "id": "complicated-indicator",
   "metadata": {},
   "outputs": [],
   "source": [
    "import pandas as pd\n",
    "fetch_data()\n",
    "def load_data():\n",
    "    return pd.read_csv('./datasets/housing/housing.csv')"
   ]
  },
  {
   "cell_type": "markdown",
   "id": "occupational-monitoring",
   "metadata": {},
   "source": [
    "## Taking a quick look on data"
   ]
  },
  {
   "cell_type": "code",
   "execution_count": 3,
   "id": "focal-spanking",
   "metadata": {},
   "outputs": [
    {
     "data": {
      "text/html": [
       "<div>\n",
       "<style scoped>\n",
       "    .dataframe tbody tr th:only-of-type {\n",
       "        vertical-align: middle;\n",
       "    }\n",
       "\n",
       "    .dataframe tbody tr th {\n",
       "        vertical-align: top;\n",
       "    }\n",
       "\n",
       "    .dataframe thead th {\n",
       "        text-align: right;\n",
       "    }\n",
       "</style>\n",
       "<table border=\"1\" class=\"dataframe\">\n",
       "  <thead>\n",
       "    <tr style=\"text-align: right;\">\n",
       "      <th></th>\n",
       "      <th>longitude</th>\n",
       "      <th>latitude</th>\n",
       "      <th>housing_median_age</th>\n",
       "      <th>total_rooms</th>\n",
       "      <th>total_bedrooms</th>\n",
       "      <th>population</th>\n",
       "      <th>households</th>\n",
       "      <th>median_income</th>\n",
       "      <th>median_house_value</th>\n",
       "      <th>ocean_proximity</th>\n",
       "    </tr>\n",
       "  </thead>\n",
       "  <tbody>\n",
       "    <tr>\n",
       "      <th>0</th>\n",
       "      <td>-122.23</td>\n",
       "      <td>37.88</td>\n",
       "      <td>41.0</td>\n",
       "      <td>880.0</td>\n",
       "      <td>129.0</td>\n",
       "      <td>322.0</td>\n",
       "      <td>126.0</td>\n",
       "      <td>8.3252</td>\n",
       "      <td>452600.0</td>\n",
       "      <td>NEAR BAY</td>\n",
       "    </tr>\n",
       "    <tr>\n",
       "      <th>1</th>\n",
       "      <td>-122.22</td>\n",
       "      <td>37.86</td>\n",
       "      <td>21.0</td>\n",
       "      <td>7099.0</td>\n",
       "      <td>1106.0</td>\n",
       "      <td>2401.0</td>\n",
       "      <td>1138.0</td>\n",
       "      <td>8.3014</td>\n",
       "      <td>358500.0</td>\n",
       "      <td>NEAR BAY</td>\n",
       "    </tr>\n",
       "    <tr>\n",
       "      <th>2</th>\n",
       "      <td>-122.24</td>\n",
       "      <td>37.85</td>\n",
       "      <td>52.0</td>\n",
       "      <td>1467.0</td>\n",
       "      <td>190.0</td>\n",
       "      <td>496.0</td>\n",
       "      <td>177.0</td>\n",
       "      <td>7.2574</td>\n",
       "      <td>352100.0</td>\n",
       "      <td>NEAR BAY</td>\n",
       "    </tr>\n",
       "    <tr>\n",
       "      <th>3</th>\n",
       "      <td>-122.25</td>\n",
       "      <td>37.85</td>\n",
       "      <td>52.0</td>\n",
       "      <td>1274.0</td>\n",
       "      <td>235.0</td>\n",
       "      <td>558.0</td>\n",
       "      <td>219.0</td>\n",
       "      <td>5.6431</td>\n",
       "      <td>341300.0</td>\n",
       "      <td>NEAR BAY</td>\n",
       "    </tr>\n",
       "    <tr>\n",
       "      <th>4</th>\n",
       "      <td>-122.25</td>\n",
       "      <td>37.85</td>\n",
       "      <td>52.0</td>\n",
       "      <td>1627.0</td>\n",
       "      <td>280.0</td>\n",
       "      <td>565.0</td>\n",
       "      <td>259.0</td>\n",
       "      <td>3.8462</td>\n",
       "      <td>342200.0</td>\n",
       "      <td>NEAR BAY</td>\n",
       "    </tr>\n",
       "  </tbody>\n",
       "</table>\n",
       "</div>"
      ],
      "text/plain": [
       "   longitude  latitude  housing_median_age  total_rooms  total_bedrooms  \\\n",
       "0    -122.23     37.88                41.0        880.0           129.0   \n",
       "1    -122.22     37.86                21.0       7099.0          1106.0   \n",
       "2    -122.24     37.85                52.0       1467.0           190.0   \n",
       "3    -122.25     37.85                52.0       1274.0           235.0   \n",
       "4    -122.25     37.85                52.0       1627.0           280.0   \n",
       "\n",
       "   population  households  median_income  median_house_value ocean_proximity  \n",
       "0       322.0       126.0         8.3252            452600.0        NEAR BAY  \n",
       "1      2401.0      1138.0         8.3014            358500.0        NEAR BAY  \n",
       "2       496.0       177.0         7.2574            352100.0        NEAR BAY  \n",
       "3       558.0       219.0         5.6431            341300.0        NEAR BAY  \n",
       "4       565.0       259.0         3.8462            342200.0        NEAR BAY  "
      ]
     },
     "execution_count": 3,
     "metadata": {},
     "output_type": "execute_result"
    }
   ],
   "source": [
    "data=load_data()\n",
    "data.head()"
   ]
  },
  {
   "cell_type": "code",
   "execution_count": 4,
   "id": "formed-slide",
   "metadata": {},
   "outputs": [
    {
     "name": "stdout",
     "output_type": "stream",
     "text": [
      "<class 'pandas.core.frame.DataFrame'>\n",
      "RangeIndex: 20640 entries, 0 to 20639\n",
      "Data columns (total 10 columns):\n",
      " #   Column              Non-Null Count  Dtype  \n",
      "---  ------              --------------  -----  \n",
      " 0   longitude           20640 non-null  float64\n",
      " 1   latitude            20640 non-null  float64\n",
      " 2   housing_median_age  20640 non-null  float64\n",
      " 3   total_rooms         20640 non-null  float64\n",
      " 4   total_bedrooms      20433 non-null  float64\n",
      " 5   population          20640 non-null  float64\n",
      " 6   households          20640 non-null  float64\n",
      " 7   median_income       20640 non-null  float64\n",
      " 8   median_house_value  20640 non-null  float64\n",
      " 9   ocean_proximity     20640 non-null  object \n",
      "dtypes: float64(9), object(1)\n",
      "memory usage: 1.6+ MB\n"
     ]
    }
   ],
   "source": [
    "## get some basic info on data\n",
    "data.info() # we have 20640 x 10, all columns are numerical but only ocean_proximity is categorical\n",
    "            # we have a null values in total_bedroom 20640-20433=207"
   ]
  },
  {
   "cell_type": "code",
   "execution_count": 5,
   "id": "proper-least",
   "metadata": {},
   "outputs": [
    {
     "data": {
      "text/plain": [
       "<1H OCEAN     9136\n",
       "INLAND        6551\n",
       "NEAR OCEAN    2658\n",
       "NEAR BAY      2290\n",
       "ISLAND           5\n",
       "Name: ocean_proximity, dtype: int64"
      ]
     },
     "execution_count": 5,
     "metadata": {},
     "output_type": "execute_result"
    }
   ],
   "source": [
    "## get how many district in each ocean_proximity category\n",
    "data[\"ocean_proximity\"].value_counts()"
   ]
  },
  {
   "cell_type": "code",
   "execution_count": 6,
   "id": "cathedral-malta",
   "metadata": {},
   "outputs": [
    {
     "data": {
      "text/html": [
       "<div>\n",
       "<style scoped>\n",
       "    .dataframe tbody tr th:only-of-type {\n",
       "        vertical-align: middle;\n",
       "    }\n",
       "\n",
       "    .dataframe tbody tr th {\n",
       "        vertical-align: top;\n",
       "    }\n",
       "\n",
       "    .dataframe thead th {\n",
       "        text-align: right;\n",
       "    }\n",
       "</style>\n",
       "<table border=\"1\" class=\"dataframe\">\n",
       "  <thead>\n",
       "    <tr style=\"text-align: right;\">\n",
       "      <th></th>\n",
       "      <th>longitude</th>\n",
       "      <th>latitude</th>\n",
       "      <th>housing_median_age</th>\n",
       "      <th>total_rooms</th>\n",
       "      <th>total_bedrooms</th>\n",
       "      <th>population</th>\n",
       "      <th>households</th>\n",
       "      <th>median_income</th>\n",
       "      <th>median_house_value</th>\n",
       "    </tr>\n",
       "  </thead>\n",
       "  <tbody>\n",
       "    <tr>\n",
       "      <th>count</th>\n",
       "      <td>20640.000000</td>\n",
       "      <td>20640.000000</td>\n",
       "      <td>20640.000000</td>\n",
       "      <td>20640.000000</td>\n",
       "      <td>20433.000000</td>\n",
       "      <td>20640.000000</td>\n",
       "      <td>20640.000000</td>\n",
       "      <td>20640.000000</td>\n",
       "      <td>20640.000000</td>\n",
       "    </tr>\n",
       "    <tr>\n",
       "      <th>mean</th>\n",
       "      <td>-119.569704</td>\n",
       "      <td>35.631861</td>\n",
       "      <td>28.639486</td>\n",
       "      <td>2635.763081</td>\n",
       "      <td>537.870553</td>\n",
       "      <td>1425.476744</td>\n",
       "      <td>499.539680</td>\n",
       "      <td>3.870671</td>\n",
       "      <td>206855.816909</td>\n",
       "    </tr>\n",
       "    <tr>\n",
       "      <th>std</th>\n",
       "      <td>2.003532</td>\n",
       "      <td>2.135952</td>\n",
       "      <td>12.585558</td>\n",
       "      <td>2181.615252</td>\n",
       "      <td>421.385070</td>\n",
       "      <td>1132.462122</td>\n",
       "      <td>382.329753</td>\n",
       "      <td>1.899822</td>\n",
       "      <td>115395.615874</td>\n",
       "    </tr>\n",
       "    <tr>\n",
       "      <th>min</th>\n",
       "      <td>-124.350000</td>\n",
       "      <td>32.540000</td>\n",
       "      <td>1.000000</td>\n",
       "      <td>2.000000</td>\n",
       "      <td>1.000000</td>\n",
       "      <td>3.000000</td>\n",
       "      <td>1.000000</td>\n",
       "      <td>0.499900</td>\n",
       "      <td>14999.000000</td>\n",
       "    </tr>\n",
       "    <tr>\n",
       "      <th>25%</th>\n",
       "      <td>-121.800000</td>\n",
       "      <td>33.930000</td>\n",
       "      <td>18.000000</td>\n",
       "      <td>1447.750000</td>\n",
       "      <td>296.000000</td>\n",
       "      <td>787.000000</td>\n",
       "      <td>280.000000</td>\n",
       "      <td>2.563400</td>\n",
       "      <td>119600.000000</td>\n",
       "    </tr>\n",
       "    <tr>\n",
       "      <th>50%</th>\n",
       "      <td>-118.490000</td>\n",
       "      <td>34.260000</td>\n",
       "      <td>29.000000</td>\n",
       "      <td>2127.000000</td>\n",
       "      <td>435.000000</td>\n",
       "      <td>1166.000000</td>\n",
       "      <td>409.000000</td>\n",
       "      <td>3.534800</td>\n",
       "      <td>179700.000000</td>\n",
       "    </tr>\n",
       "    <tr>\n",
       "      <th>75%</th>\n",
       "      <td>-118.010000</td>\n",
       "      <td>37.710000</td>\n",
       "      <td>37.000000</td>\n",
       "      <td>3148.000000</td>\n",
       "      <td>647.000000</td>\n",
       "      <td>1725.000000</td>\n",
       "      <td>605.000000</td>\n",
       "      <td>4.743250</td>\n",
       "      <td>264725.000000</td>\n",
       "    </tr>\n",
       "    <tr>\n",
       "      <th>max</th>\n",
       "      <td>-114.310000</td>\n",
       "      <td>41.950000</td>\n",
       "      <td>52.000000</td>\n",
       "      <td>39320.000000</td>\n",
       "      <td>6445.000000</td>\n",
       "      <td>35682.000000</td>\n",
       "      <td>6082.000000</td>\n",
       "      <td>15.000100</td>\n",
       "      <td>500001.000000</td>\n",
       "    </tr>\n",
       "  </tbody>\n",
       "</table>\n",
       "</div>"
      ],
      "text/plain": [
       "          longitude      latitude  housing_median_age   total_rooms  \\\n",
       "count  20640.000000  20640.000000        20640.000000  20640.000000   \n",
       "mean    -119.569704     35.631861           28.639486   2635.763081   \n",
       "std        2.003532      2.135952           12.585558   2181.615252   \n",
       "min     -124.350000     32.540000            1.000000      2.000000   \n",
       "25%     -121.800000     33.930000           18.000000   1447.750000   \n",
       "50%     -118.490000     34.260000           29.000000   2127.000000   \n",
       "75%     -118.010000     37.710000           37.000000   3148.000000   \n",
       "max     -114.310000     41.950000           52.000000  39320.000000   \n",
       "\n",
       "       total_bedrooms    population    households  median_income  \\\n",
       "count    20433.000000  20640.000000  20640.000000   20640.000000   \n",
       "mean       537.870553   1425.476744    499.539680       3.870671   \n",
       "std        421.385070   1132.462122    382.329753       1.899822   \n",
       "min          1.000000      3.000000      1.000000       0.499900   \n",
       "25%        296.000000    787.000000    280.000000       2.563400   \n",
       "50%        435.000000   1166.000000    409.000000       3.534800   \n",
       "75%        647.000000   1725.000000    605.000000       4.743250   \n",
       "max       6445.000000  35682.000000   6082.000000      15.000100   \n",
       "\n",
       "       median_house_value  \n",
       "count        20640.000000  \n",
       "mean        206855.816909  \n",
       "std         115395.615874  \n",
       "min          14999.000000  \n",
       "25%         119600.000000  \n",
       "50%         179700.000000  \n",
       "75%         264725.000000  \n",
       "max         500001.000000  "
      ]
     },
     "execution_count": 6,
     "metadata": {},
     "output_type": "execute_result"
    }
   ],
   "source": [
    "## get some stats on numerical data using describe\n",
    "data.describe()\n",
    "# std stands for standard deviation which is a measure of how dispersed the values are. \n",
    "# low std  => values are around the mean\n",
    "# high std => values are spread over a wider range "
   ]
  },
  {
   "cell_type": "code",
   "execution_count": 7,
   "id": "southern-orchestra",
   "metadata": {},
   "outputs": [
    {
     "data": {
      "image/png": "[encoded data removed]",
      "text/plain": [
       "<Figure size 1440x1080 with 9 Axes>"
      ]
     },
     "metadata": {
      "needs_background": "light"
     },
     "output_type": "display_data"
    }
   ],
   "source": [
    "## to get a taste of data let's plot our numerical data as histograms with the help of matplotlib\n",
    "import matplotlib.pyplot as plt\n",
    "%matplotlib inline\n",
    "data.hist(figsize=(20,15))\n",
    "plt.show()"
   ]
  },
  {
   "cell_type": "markdown",
   "id": "trained-paragraph",
   "metadata": {},
   "source": [
    "After plotting histograms for all numerical data we can say:\n",
    "\n",
    "1- Median income is scaled and capped between 0.5 and 15, it's in thousand of dollars as data collectors said.\n",
    "\n",
    "2- The target variable: median house value is capped in 500 000USD. which means that the ML algorithms may learn that median house prices cannot go over 500k USD. We should check with the clients(output users) if they need to predict some median price over 500k USD or not.\n",
    "\n",
    "3- Features have different scales => we need feature scaling\n",
    "\n",
    "4- Many histo are **tail heavy** which means that they go to zero slower than an exponential distribution, which can be difficult for some algorithms to find patterns in data. So we will have to transform them into a more bell-shaped distributions"
   ]
  },
  {
   "cell_type": "markdown",
   "id": "missing-longer",
   "metadata": {},
   "source": [
    "## Splitting data into train/test"
   ]
  },
  {
   "cell_type": "markdown",
   "id": "metric-clock",
   "metadata": {},
   "source": [
    "Splitting data using scikitlearn function\n",
    "We pass our dataframe, the size of test size and a random number which guarantee that whenever running our code we will get the same train and test data so that we can avoid that our model sees the whole dataset!!"
   ]
  },
  {
   "cell_type": "code",
   "execution_count": 8,
   "id": "rolled-madagascar",
   "metadata": {},
   "outputs": [
    {
     "data": {
      "text/plain": [
       "(16512, 10)"
      ]
     },
     "execution_count": 8,
     "metadata": {},
     "output_type": "execute_result"
    }
   ],
   "source": [
    "from sklearn.model_selection import train_test_split\n",
    "train,test=train_test_split(data, test_size=0.2, random_state=42)\n",
    "train.shape"
   ]
  },
  {
   "cell_type": "code",
   "execution_count": 9,
   "id": "catholic-cliff",
   "metadata": {},
   "outputs": [
    {
     "data": {
      "text/plain": [
       "(4128, 10)"
      ]
     },
     "execution_count": 9,
     "metadata": {},
     "output_type": "execute_result"
    }
   ],
   "source": [
    "test.shape"
   ]
  },
  {
   "cell_type": "markdown",
   "id": "rising-tongue",
   "metadata": {},
   "source": [
    "For now we've randomly splitted our data into trainning and testing set which is fine if your dataset is large enough.\n",
    "\n",
    "But in some cases you run the risk of introducing **sampling bias**. Which mean that the training data doesn't reflect the actual environment that the model will be running in.\n",
    "\n",
    "For example you are building a self-driving car model, and you've just trained it on daylight video, so when you launched into production it can't drive in nighttime.\n",
    "\n",
    "In our case after chatting with real-estate experts, we recognize that **median income** feature is the most important attribute to predict **median housing prices**. So we should make sure that the test set is representative of different ranges of **median income**."
   ]
  },
  {
   "cell_type": "code",
   "execution_count": 10,
   "id": "copyrighted-princess",
   "metadata": {},
   "outputs": [
    {
     "data": {
      "text/plain": [
       "<AxesSubplot:>"
      ]
     },
     "execution_count": 10,
     "metadata": {},
     "output_type": "execute_result"
    },
    {
     "data": {
      "image/png": "[encoded data removed]",
      "text/plain": [
       "<Figure size 432x288 with 1 Axes>"
      ]
     },
     "metadata": {
      "needs_background": "light"
     },
     "output_type": "display_data"
    }
   ],
   "source": [
    "data[\"median_income\"].hist(bins=50)"
   ]
  },
  {
   "cell_type": "markdown",
   "id": "educated-circus",
   "metadata": {},
   "source": [
    "Since Median income is continuous feature we need to create an income_category feature. From the hist above most median incomes are clustered between 1.5 and 6.\n",
    "\n",
    "Let's create 5 categories of **median income** labeled from 1 to 5"
   ]
  },
  {
   "cell_type": "code",
   "execution_count": 11,
   "id": "bigger-representative",
   "metadata": {},
   "outputs": [],
   "source": [
    "import numpy as np\n",
    "data[\"income_cat\"]=pd.cut(data['median_income'],bins=[0,1.5,3,4.5,6,np.inf],labels=[1,2,3,4,5])"
   ]
  },
  {
   "cell_type": "code",
   "execution_count": 12,
   "id": "suburban-briefs",
   "metadata": {},
   "outputs": [
    {
     "data": {
      "text/plain": [
       "3    7236\n",
       "2    6581\n",
       "4    3639\n",
       "5    2362\n",
       "1     822\n",
       "Name: income_cat, dtype: int64"
      ]
     },
     "execution_count": 12,
     "metadata": {},
     "output_type": "execute_result"
    }
   ],
   "source": [
    "data[\"income_cat\"].value_counts()"
   ]
  },
  {
   "cell_type": "code",
   "execution_count": 13,
   "id": "considered-worry",
   "metadata": {},
   "outputs": [
    {
     "data": {
      "text/plain": [
       "<AxesSubplot:>"
      ]
     },
     "execution_count": 13,
     "metadata": {},
     "output_type": "execute_result"
    },
    {
     "data": {
      "image/png": "[encoded data removed]",
      "text/plain": [
       "<Figure size 432x288 with 1 Axes>"
      ]
     },
     "metadata": {
      "needs_background": "light"
     },
     "output_type": "display_data"
    }
   ],
   "source": [
    "data[\"income_cat\"].hist()"
   ]
  },
  {
   "cell_type": "code",
   "execution_count": 14,
   "id": "emerging-gregory",
   "metadata": {},
   "outputs": [
    {
     "data": {
      "text/plain": [
       "3    35.058140\n",
       "2    31.884690\n",
       "4    17.630814\n",
       "5    11.443798\n",
       "1     3.982558\n",
       "Name: income_cat, dtype: float64"
      ]
     },
     "execution_count": 14,
     "metadata": {},
     "output_type": "execute_result"
    }
   ],
   "source": [
    "# the percentage of each categorie in data\n",
    "(data[\"income_cat\"].value_counts()/data[\"income_cat\"].shape[0])*100"
   ]
  },
  {
   "cell_type": "code",
   "execution_count": 19,
   "id": "sitting-neutral",
   "metadata": {},
   "outputs": [],
   "source": [
    "# we should respect this ratios while splitting train/test\n",
    "from sklearn.model_selection import StratifiedShuffleSplit\n",
    "\n",
    "split = StratifiedShuffleSplit(n_splits=1, test_size=0.2, random_state=42)\n",
    "for train_index, test_index in split.split(data, data[\"income_cat\"]):\n",
    "    strat_train_set = data.loc[train_index]\n",
    "    strat_test_set = data.loc[test_index]"
   ]
  },
  {
   "cell_type": "code",
   "execution_count": 21,
   "id": "likely-status",
   "metadata": {},
   "outputs": [
    {
     "data": {
      "text/plain": [
       "3    35.059351\n",
       "2    31.885901\n",
       "4    17.629603\n",
       "5    11.440165\n",
       "1     3.984981\n",
       "Name: income_cat, dtype: float64"
      ]
     },
     "execution_count": 21,
     "metadata": {},
     "output_type": "execute_result"
    }
   ],
   "source": [
    "# strat_train_set\n",
    "(strat_train_set[\"income_cat\"].value_counts()/strat_train_set[\"income_cat\"].shape[0])*100"
   ]
  },
  {
   "cell_type": "code",
   "execution_count": 22,
   "id": "mysterious-valley",
   "metadata": {},
   "outputs": [
    {
     "data": {
      "text/plain": [
       "3    35.053295\n",
       "2    31.879845\n",
       "4    17.635659\n",
       "5    11.458333\n",
       "1     3.972868\n",
       "Name: income_cat, dtype: float64"
      ]
     },
     "execution_count": 22,
     "metadata": {},
     "output_type": "execute_result"
    }
   ],
   "source": [
    "(strat_test_set[\"income_cat\"].value_counts()/strat_test_set[\"income_cat\"].shape[0])*100"
   ]
  },
  {
   "cell_type": "markdown",
   "id": "sapphire-machine",
   "metadata": {},
   "source": [
    "**As we can see the ratio of each incom cat is the almost the same in test and train sets.**\n",
    "\n",
    "Now let's drop the income_cat columns as we have finished splitting test/train."
   ]
  },
  {
   "cell_type": "code",
   "execution_count": 23,
   "id": "collective-baltimore",
   "metadata": {},
   "outputs": [],
   "source": [
    "for data_set in (strat_test_set,strat_train_set):\n",
    "    data_set.drop(\"income_cat\",axis=1,inplace=True)"
   ]
  }
 ],
 "metadata": {
  "kernelspec": {
   "display_name": "Python 3",
   "language": "python",
   "name": "python3"
  },
  "language_info": {
   "codemirror_mode": {
    "name": "ipython",
    "version": 3
   },
   "file_extension": ".py",
   "mimetype": "text/x-python",
   "name": "python",
   "nbconvert_exporter": "python",
   "pygments_lexer": "ipython3",
   "version": "3.8.5"
  }
 },
 "nbformat": 4,
 "nbformat_minor": 5
}
